{
  "nbformat": 4,
  "nbformat_minor": 0,
  "metadata": {
    "colab": {
      "provenance": []
    },
    "kernelspec": {
      "name": "python3",
      "display_name": "Python 3"
    },
    "language_info": {
      "name": "python"
    }
  },
  "cells": [
    {
      "cell_type": "code",
      "execution_count": 34,
      "metadata": {
        "colab": {
          "base_uri": "https://localhost:8080/"
        },
        "id": "W7NApcvv-cvs",
        "outputId": "e1de8de3-7841-4594-b497-bd6d2cf0c4de"
      },
      "outputs": [
        {
          "output_type": "stream",
          "name": "stdout",
          "text": [
            "['sports' 'politics' 'technology']\n",
            "Document: The team won cricket. | Predicted Category: sports\n",
            "Document: New Mayor in Houston. | Predicted Category: politics\n",
            "Document: iphone smartphone just released. | Predicted Category: technology\n",
            "\n",
            "Classification Report:\n",
            "              precision    recall  f1-score   support\n",
            "\n",
            "    politics       1.00      1.00      1.00         1\n",
            "      sports       1.00      1.00      1.00         1\n",
            "  technology       1.00      1.00      1.00         1\n",
            "\n",
            "    accuracy                           1.00         3\n",
            "   macro avg       1.00      1.00      1.00         3\n",
            "weighted avg       1.00      1.00      1.00         3\n",
            "\n",
            "\n",
            "Document: The team won cricket.\n",
            "Probability of 'politics': 0.18395714795456897\n",
            "Probability of 'sports': 0.7166915094469604\n",
            "Probability of 'technology': 0.09935134259846995\n",
            "\n",
            "Document: New Mayor in Houston.\n",
            "Probability of 'politics': 0.7003056614102969\n",
            "Probability of 'sports': 0.1421025922146052\n",
            "Probability of 'technology': 0.1575917463750974\n",
            "\n",
            "Document: iphone smartphone just released.\n",
            "Probability of 'politics': 0.14231601278106956\n",
            "Probability of 'sports': 0.16226723778456326\n",
            "Probability of 'technology': 0.6954167494343674\n"
          ]
        }
      ],
      "source": [
        "from sklearn.feature_extraction.text import CountVectorizer\n",
        "from sklearn.naive_bayes import MultinomialNB\n",
        "from sklearn.metrics import classification_report\n",
        "# Sample dataset\n",
        "documents = [\n",
        "    (\"The team won the championship. What a victory!\", \"sports\"),\n",
        "    (\"The election results are in. The new mayor has been elected.\", \"politics\"),\n",
        "    (\"New technology breakthrough announced. Exciting developments ahead.\", \"technology\"),\n",
        "    (\"The match ended in a draw. Both teams played exceptionally well.\", \"sports\"),\n",
        "    (\"The government announces new policies. Changes ahead for the country.\", \"politics\"),\n",
        "    (\"The latest smartphone was released today. Amazing features!\", \"technology\")\n",
        "]\n",
        "# Extract features (text) and labels (categories)\n",
        "X, y = zip(*documents)\n",
        "\n",
        "# Vectorize the text data\n",
        "vectorizer = CountVectorizer()\n",
        "X = vectorizer.fit_transform(X)\n",
        "# Create and train the Multinomial Naive Bayes classifier\n",
        "clf = MultinomialNB()\n",
        "clf.fit(X, y)\n",
        "# Example documents for prediction\n",
        "new_documents = [\n",
        "    \"The team won cricket.\",\n",
        "    \"New Mayor in Houston.\",\n",
        "    \"iphone smartphone just released.\"\n",
        "]\n",
        "\n",
        "# Vectorize the new documents\n",
        "X_new = vectorizer.transform(new_documents)\n",
        "\n",
        "# Make predictions\n",
        "predicted_categories = clf.predict(X_new)\n",
        "print(predicted_categories)\n",
        "\n",
        "# Print predictions\n",
        "for doc, category in zip(new_documents, predicted_categories):\n",
        "    print(f\"Document: {doc} | Predicted Category: {category}\")\n",
        "# Example true labels for evaluation\n",
        "true_labels = [\"sports\", \"politics\", \"technology\"]\n",
        "\n",
        "# Evaluate the model\n",
        "print(\"\\nClassification Report:\")\n",
        "print(classification_report(true_labels, predicted_categories))\n",
        "\n",
        "# Make predictions and get probability estimates\n",
        "predicted_probs = clf.predict_proba(X_new)\n",
        "predicted_categories = clf.classes_\n",
        "\n",
        "# Print predictions and probabilities for each category\n",
        "for i, doc in enumerate(new_documents):\n",
        "    print(f\"\\nDocument: {doc}\")\n",
        "    for j, category in enumerate(predicted_categories):\n",
        "        print(f\"Probability of '{category}': {predicted_probs[i][j]}\")\n"
      ]
    }
  ]
}